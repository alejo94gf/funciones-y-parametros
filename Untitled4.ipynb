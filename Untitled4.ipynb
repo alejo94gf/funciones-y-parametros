{
  "nbformat": 4,
  "nbformat_minor": 0,
  "metadata": {
    "colab": {
      "provenance": [],
      "authorship_tag": "ABX9TyNvMRvsRpR79y0B0rVZJGit",
      "include_colab_link": true
    },
    "kernelspec": {
      "name": "python3",
      "display_name": "Python 3"
    },
    "language_info": {
      "name": "python"
    }
  },
  "cells": [
    {
      "cell_type": "markdown",
      "metadata": {
        "id": "view-in-github",
        "colab_type": "text"
      },
      "source": [
        "<a href=\"https://colab.research.google.com/github/alejo94gf/funciones-y-parametros/blob/main/Untitled4.ipynb\" target=\"_parent\"><img src=\"https://colab.research.google.com/assets/colab-badge.svg\" alt=\"Open In Colab\"/></a>"
      ]
    },
    {
      "cell_type": "code",
      "execution_count": null,
      "metadata": {
        "id": "wLKJhM01XMbp"
      },
      "outputs": [],
      "source": [
        "# Función para calcular valor absoluto\n",
        "def calcular_valor_absoluto(numero):\n",
        "    valor_absoluto = abs(numero)\n",
        "    print(f\"El valor absoluto de {numero} es: {valor_absoluto}\")"
      ]
    }
  ]
}